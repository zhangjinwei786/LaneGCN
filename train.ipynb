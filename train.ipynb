{
 "cells": [
  {
   "cell_type": "markdown",
   "id": "209e509b",
   "metadata": {},
   "source": [
    "# Train File\n",
    "This is a copycat of original `train.py` file, with simple notebook-oriented adaptation, for faster debug work."
   ]
  },
  {
   "cell_type": "markdown",
   "id": "cc277599",
   "metadata": {},
   "source": [
    "## 1. Some libraries if necessary"
   ]
  },
  {
   "cell_type": "code",
   "execution_count": 1,
   "id": "3846d5eb",
   "metadata": {
    "scrolled": true
   },
   "outputs": [],
   "source": [
    "# !pip install horovod\n",
    "# !pip install mpi4py"
   ]
  },
  {
   "cell_type": "markdown",
   "id": "b9d011fb",
   "metadata": {},
   "source": [
    "## 2. Import libraries"
   ]
  },
  {
   "cell_type": "code",
   "execution_count": 2,
   "id": "d9dfdfc6",
   "metadata": {},
   "outputs": [],
   "source": [
    "# Copyright (c) 2020 Uber Technologies, Inc.\n",
    "# See the License for the specific language governing permissions and\n",
    "# limitations under the License.\n",
    "\n",
    "import os\n",
    "\n",
    "os.umask(0)\n",
    "os.environ[\"MKL_NUM_THREADS\"] = \"1\"\n",
    "os.environ[\"NUMEXPR_NUM_THREADS\"] = \"1\"\n",
    "os.environ[\"OMP_NUM_THREADS\"] = \"1\"\n",
    "import argparse\n",
    "import numpy as np\n",
    "import random\n",
    "import sys\n",
    "import time\n",
    "import shutil\n",
    "from importlib import import_module\n",
    "from numbers import Number\n",
    "\n",
    "from tqdm.notebook import tqdm\n",
    "import torch\n",
    "from torch.utils.data import Sampler, DataLoader\n",
    "import horovod.torch as hvd\n",
    "\n",
    "\n",
    "from torch.utils.data.distributed import DistributedSampler\n",
    "\n",
    "from utils import Logger, load_pretrain\n",
    "\n",
    "from mpi4py import MPI"
   ]
  },
  {
   "cell_type": "markdown",
   "id": "3117b543",
   "metadata": {},
   "source": [
    "## 3. Initialization"
   ]
  },
  {
   "cell_type": "code",
   "execution_count": 3,
   "id": "9607f352",
   "metadata": {},
   "outputs": [
    {
     "data": {
      "text/plain": [
       "_StoreAction(option_strings=['--weight'], dest='weight', nargs=None, const=None, default='/home/jinwei/wise/LaneGCN/results/lanegcn/17.000.ckpt', type=<class 'str'>, choices=None, help='checkpoint path', metavar='WEIGHT')"
      ]
     },
     "execution_count": 3,
     "metadata": {},
     "output_type": "execute_result"
    }
   ],
   "source": [
    "comm = MPI.COMM_WORLD\n",
    "hvd.init()\n",
    "torch.cuda.set_device(hvd.local_rank())\n",
    "\n",
    "root_path = os.path.dirname(os.path.abspath(''))\n",
    "sys.path.insert(0, root_path)\n",
    "\n",
    "\n",
    "parser = argparse.ArgumentParser(description=\"Fuse Detection in Pytorch\")\n",
    "parser.add_argument(\n",
    "    \"-m\", \"--model\", default=\"lanegcn\", type=str, metavar=\"MODEL\", help=\"model name\"\n",
    ")\n",
    "parser.add_argument(\"--eval\", action=\"store_true\")\n",
    "parser.add_argument(\n",
    "    \"--resume\", default=\"\", type=str, metavar=\"RESUME\", help=\"checkpoint path\"\n",
    ")\n",
    "parser.add_argument(\n",
    "    \"--weight\", default=\"/home/jinwei/wise/LaneGCN/results/lanegcn/17.000.ckpt\", type=str, metavar=\"WEIGHT\", help=\"checkpoint path\"\n",
    ")"
   ]
  },
  {
   "cell_type": "markdown",
   "id": "ea9711c7",
   "metadata": {},
   "source": [
    "## 4. Support Functions"
   ]
  },
  {
   "cell_type": "code",
   "execution_count": 4,
   "id": "f1046222",
   "metadata": {},
   "outputs": [],
   "source": [
    "def worker_init_fn(pid):\n",
    "    np_seed = hvd.rank() * 1024 + int(pid)\n",
    "    np.random.seed(np_seed)\n",
    "    random_seed = np.random.randint(2 ** 32 - 1)\n",
    "    random.seed(random_seed)\n",
    "\n",
    "\n",
    "def train(epoch, config, train_loader, net, loss, post_process, opt, val_loader=None):\n",
    "    train_loader.sampler.set_epoch(int(epoch))\n",
    "    net.train()\n",
    "    num_batches = len(train_loader)\n",
    "    epoch_per_batch = 1.0 / num_batches\n",
    "    save_iters = int(np.ceil(config[\"save_freq\"] * num_batches))\n",
    "#     display_iters = int(\n",
    "#         config[\"display_iters\"] / (hvd.size() * config[\"batch_size\"])\n",
    "#     )\n",
    "    display_iters = 368\n",
    "    print('display_iters: ' +str(display_iters))\n",
    "    val_iters = int(config[\"val_iters\"] / (hvd.size() * config[\"batch_size\"]))\n",
    "\n",
    "    start_time = time.time()\n",
    "    metrics = dict()\n",
    "    for i, data in tqdm(enumerate(train_loader), total=num_batches, disable=hvd.rank()):\n",
    "        epoch += epoch_per_batch\n",
    "        data = dict(data)\n",
    "\n",
    "        output = net(data)\n",
    "        loss_out = loss(output, data)\n",
    "        post_out = post_process(output, data)\n",
    "        post_process.append(metrics, loss_out, post_out)\n",
    "\n",
    "        opt.zero_grad()\n",
    "        loss_out[\"loss\"].backward()\n",
    "        lr = opt.step(epoch)\n",
    "\n",
    "        num_iters = int(np.round(epoch * num_batches))\n",
    "#         print('num_iters: '+str(num_iters))\n",
    "        if hvd.rank() == 0 and (\n",
    "            num_iters % save_iters == 0 or epoch >= config[\"num_epochs\"]\n",
    "        ):\n",
    "            save_ckpt(net, opt, config[\"save_dir\"], epoch)\n",
    "\n",
    "        if num_iters % display_iters == 0:\n",
    "            dt = time.time() - start_time\n",
    "            metrics = sync(metrics)\n",
    "            if hvd.rank() == 0:\n",
    "                post_process.display(metrics, dt, epoch, lr)\n",
    "            start_time = time.time()\n",
    "            metrics = dict()\n",
    "\n",
    "        if num_iters % val_iters == 0:\n",
    "            val(config, val_loader, net, loss, post_process, epoch)\n",
    "\n",
    "        if epoch >= config[\"num_epochs\"]:\n",
    "            val(config, val_loader, net, loss, post_process, epoch)\n",
    "            return\n",
    "\n",
    "\n",
    "def val(config, data_loader, net, loss, post_process, epoch):\n",
    "    net.eval()\n",
    "\n",
    "    start_time = time.time()\n",
    "    metrics = dict()\n",
    "    for i, data in enumerate(data_loader):\n",
    "        data = dict(data)\n",
    "        with torch.no_grad():\n",
    "            output = net(data)\n",
    "            loss_out = loss(output, data)\n",
    "            post_out = post_process(output, data)\n",
    "            post_process.append(metrics, loss_out, post_out)\n",
    "\n",
    "    dt = time.time() - start_time\n",
    "    metrics = sync(metrics)\n",
    "    if hvd.rank() == 0:\n",
    "        post_process.display(metrics, dt, epoch)\n",
    "    net.train()\n",
    "\n",
    "\n",
    "def save_ckpt(net, opt, save_dir, epoch):\n",
    "    if not os.path.exists(save_dir):\n",
    "        os.makedirs(save_dir)\n",
    "\n",
    "    state_dict = net.state_dict()\n",
    "    for key in state_dict.keys():\n",
    "        state_dict[key] = state_dict[key].cpu()\n",
    "\n",
    "    save_name = \"%3.3f.ckpt\" % epoch\n",
    "    torch.save(\n",
    "        {\"epoch\": epoch, \"state_dict\": state_dict, \"opt_state\": opt.opt.state_dict()},\n",
    "        os.path.join(save_dir, save_name),\n",
    "    )\n",
    "\n",
    "\n",
    "def sync(data):\n",
    "    data_list = comm.allgather(data)\n",
    "    data = dict()\n",
    "    for key in data_list[0]:\n",
    "        if isinstance(data_list[0][key], list):\n",
    "            data[key] = []\n",
    "        else:\n",
    "            data[key] = 0\n",
    "        for i in range(len(data_list)):\n",
    "            data[key] += data_list[i][key]\n",
    "    return data"
   ]
  },
  {
   "cell_type": "markdown",
   "id": "a9c3ad0c",
   "metadata": {},
   "source": [
    "## 5. Main program"
   ]
  },
  {
   "cell_type": "code",
   "execution_count": 5,
   "id": "156fe129",
   "metadata": {},
   "outputs": [
    {
     "name": "stdout",
     "output_type": "stream",
     "text": [
      "Data loader for training done.\n"
     ]
    },
    {
     "data": {
      "application/vnd.jupyter.widget-view+json": {
       "model_id": "b4d0dd219949448a91b5580abf653dd0",
       "version_major": 2,
       "version_minor": 0
      },
      "text/plain": [
       "  0%|          | 0/368 [00:00<?, ?it/s]"
      ]
     },
     "metadata": {},
     "output_type": "display_data"
    },
    {
     "name": "stdout",
     "output_type": "stream",
     "text": [
      "Data loader for evaluation done.\n",
      "epoch number: 0\n",
      "remaining epoch number: 36\n",
      "epoch number: 0\n",
      "display_iters: 368\n"
     ]
    },
    {
     "data": {
      "application/vnd.jupyter.widget-view+json": {
       "model_id": "4aa1a3dec14a44bdb4c65bff7f77be7b",
       "version_major": 2,
       "version_minor": 0
      },
      "text/plain": [
       "  0%|          | 0/368 [00:00<?, ?it/s]"
      ]
     },
     "metadata": {},
     "output_type": "display_data"
    },
    {
     "name": "stdout",
     "output_type": "stream",
     "text": [
      "Epoch 1.000, lr 0.00100, time 166.63\n",
      "loss 6572.7516 0.1974 6572.5542, ade1 293.1707, fde1 528.3082, ade 279.1145, fde 478.5155\n",
      "\n",
      "epoch number: 1\n",
      "display_iters: 368\n"
     ]
    },
    {
     "data": {
      "application/vnd.jupyter.widget-view+json": {
       "model_id": "4a9f4d369e80408e8b3a93b9df9dfc74",
       "version_major": 2,
       "version_minor": 0
      },
      "text/plain": [
       "  0%|          | 0/368 [00:00<?, ?it/s]"
      ]
     },
     "metadata": {},
     "output_type": "display_data"
    },
    {
     "name": "stdout",
     "output_type": "stream",
     "text": [
      "Epoch 2.000, lr 0.00100, time 167.70\n",
      "loss 8378.1532 0.1986 8377.9546, ade1 291.6299, fde1 528.9738, ade 283.4040, fde 495.7129\n",
      "\n",
      "epoch number: 2\n",
      "display_iters: 368\n"
     ]
    },
    {
     "data": {
      "application/vnd.jupyter.widget-view+json": {
       "model_id": "94793ebe00854501a7b7f8a26eefdd5e",
       "version_major": 2,
       "version_minor": 0
      },
      "text/plain": [
       "  0%|          | 0/368 [00:00<?, ?it/s]"
      ]
     },
     "metadata": {},
     "output_type": "display_data"
    },
    {
     "name": "stdout",
     "output_type": "stream",
     "text": [
      "Epoch 3.000, lr 0.00100, time 167.43\n",
      "loss 7349.2120 0.1996 7349.0123, ade1 285.8035, fde1 504.3552, ade 281.1135, fde 486.3497\n",
      "\n",
      "epoch number: 3\n",
      "display_iters: 368\n"
     ]
    },
    {
     "data": {
      "application/vnd.jupyter.widget-view+json": {
       "model_id": "f0f4564d238b477da1647e82b0766b5e",
       "version_major": 2,
       "version_minor": 0
      },
      "text/plain": [
       "  0%|          | 0/368 [00:00<?, ?it/s]"
      ]
     },
     "metadata": {},
     "output_type": "display_data"
    },
    {
     "name": "stdout",
     "output_type": "stream",
     "text": [
      "Epoch 4.000, lr 0.00100, time 167.47\n",
      "loss 7756.8565 0.1975 7756.6590, ade1 285.6861, fde1 507.1596, ade 281.2123, fde 482.3486\n",
      "\n",
      "epoch number: 4\n",
      "display_iters: 368\n"
     ]
    },
    {
     "data": {
      "application/vnd.jupyter.widget-view+json": {
       "model_id": "160cb55beba44828861b4d2af1fa8942",
       "version_major": 2,
       "version_minor": 0
      },
      "text/plain": [
       "  0%|          | 0/368 [00:00<?, ?it/s]"
      ]
     },
     "metadata": {},
     "output_type": "display_data"
    },
    {
     "name": "stdout",
     "output_type": "stream",
     "text": [
      "Epoch 5.000, lr 0.00100, time 167.43\n",
      "loss 7199.5845 0.1990 7199.3855, ade1 284.5266, fde1 506.7756, ade 277.4088, fde 463.7691\n",
      "\n",
      "epoch number: 5\n",
      "display_iters: 368\n"
     ]
    },
    {
     "data": {
      "application/vnd.jupyter.widget-view+json": {
       "model_id": "9347f60d4ffc46daa976be3197d31c4f",
       "version_major": 2,
       "version_minor": 0
      },
      "text/plain": [
       "  0%|          | 0/368 [00:00<?, ?it/s]"
      ]
     },
     "metadata": {},
     "output_type": "display_data"
    },
    {
     "name": "stdout",
     "output_type": "stream",
     "text": [
      "Epoch 6.000, lr 0.00100, time 167.40\n",
      "loss 7436.7854 0.2027 7436.5827, ade1 284.3772, fde1 505.6396, ade 277.3804, fde 455.2974\n",
      "\n",
      "epoch number: 6\n",
      "display_iters: 368\n"
     ]
    },
    {
     "data": {
      "application/vnd.jupyter.widget-view+json": {
       "model_id": "1fbf2e4c9995415294b4b5c7169dec08",
       "version_major": 2,
       "version_minor": 0
      },
      "text/plain": [
       "  0%|          | 0/368 [00:00<?, ?it/s]"
      ]
     },
     "metadata": {},
     "output_type": "display_data"
    },
    {
     "name": "stdout",
     "output_type": "stream",
     "text": [
      "Epoch 7.000, lr 0.00100, time 167.83\n",
      "loss 8878.3184 0.1977 8878.1207, ade1 279.6692, fde1 475.3388, ade 273.5251, fde 440.5836\n",
      "\n",
      "epoch number: 7\n",
      "display_iters: 368\n"
     ]
    },
    {
     "data": {
      "application/vnd.jupyter.widget-view+json": {
       "model_id": "3a74f71a5cee42a6a4aa85a944dc5f50",
       "version_major": 2,
       "version_minor": 0
      },
      "text/plain": [
       "  0%|          | 0/368 [00:00<?, ?it/s]"
      ]
     },
     "metadata": {},
     "output_type": "display_data"
    },
    {
     "name": "stdout",
     "output_type": "stream",
     "text": [
      "Epoch 8.000, lr 0.00100, time 168.15\n",
      "loss 8754.6989 0.1981 8754.5007, ade1 277.2729, fde1 469.9166, ade 266.6991, fde 419.0268\n",
      "\n",
      "epoch number: 8\n",
      "display_iters: 368\n"
     ]
    },
    {
     "data": {
      "application/vnd.jupyter.widget-view+json": {
       "model_id": "f045ffe4b0e2452cb20ceeeba87e95a8",
       "version_major": 2,
       "version_minor": 0
      },
      "text/plain": [
       "  0%|          | 0/368 [00:00<?, ?it/s]"
      ]
     },
     "metadata": {},
     "output_type": "display_data"
    },
    {
     "name": "stdout",
     "output_type": "stream",
     "text": [
      "Epoch 9.000, lr 0.00100, time 163.54\n",
      "loss 8291.4486 0.1984 8291.2502, ade1 285.4881, fde1 500.7003, ade 274.6588, fde 443.8308\n",
      "\n",
      "epoch number: 9\n",
      "display_iters: 368\n"
     ]
    },
    {
     "data": {
      "application/vnd.jupyter.widget-view+json": {
       "model_id": "e284c1b4794a48f4b9643b2e9a18192c",
       "version_major": 2,
       "version_minor": 0
      },
      "text/plain": [
       "  0%|          | 0/368 [00:00<?, ?it/s]"
      ]
     },
     "metadata": {},
     "output_type": "display_data"
    },
    {
     "name": "stdout",
     "output_type": "stream",
     "text": [
      "Epoch 10.000, lr 0.00100, time 162.67\n",
      "loss 7566.4558 0.1975 7566.2583, ade1 282.1814, fde1 493.2731, ade 271.4242, fde 441.0500\n",
      "\n",
      "epoch number: 10\n",
      "display_iters: 368\n"
     ]
    },
    {
     "data": {
      "application/vnd.jupyter.widget-view+json": {
       "model_id": "24ca58f575c040b49aabb5e1579cc239",
       "version_major": 2,
       "version_minor": 0
      },
      "text/plain": [
       "  0%|          | 0/368 [00:00<?, ?it/s]"
      ]
     },
     "metadata": {},
     "output_type": "display_data"
    },
    {
     "name": "stdout",
     "output_type": "stream",
     "text": [
      "Epoch 11.000, lr 0.00100, time 162.94\n",
      "loss 7425.2403 0.1976 7425.0427, ade1 274.9346, fde1 470.3916, ade 263.3489, fde 408.7680\n",
      "\n",
      "epoch number: 11\n",
      "display_iters: 368\n"
     ]
    },
    {
     "data": {
      "application/vnd.jupyter.widget-view+json": {
       "model_id": "5ff65bb9de1e40cbbd9b02d70da6a54e",
       "version_major": 2,
       "version_minor": 0
      },
      "text/plain": [
       "  0%|          | 0/368 [00:00<?, ?it/s]"
      ]
     },
     "metadata": {},
     "output_type": "display_data"
    },
    {
     "name": "stdout",
     "output_type": "stream",
     "text": [
      "Epoch 12.000, lr 0.00100, time 162.75\n",
      "loss 7025.4481 0.2045 7025.2436, ade1 275.8184, fde1 463.0755, ade 266.5092, fde 419.9170\n",
      "\n",
      "epoch number: 12\n",
      "display_iters: 368\n"
     ]
    },
    {
     "data": {
      "application/vnd.jupyter.widget-view+json": {
       "model_id": "6f401ec3487b4877bc3433013aead363",
       "version_major": 2,
       "version_minor": 0
      },
      "text/plain": [
       "  0%|          | 0/368 [00:00<?, ?it/s]"
      ]
     },
     "metadata": {},
     "output_type": "display_data"
    },
    {
     "name": "stdout",
     "output_type": "stream",
     "text": [
      "Epoch 13.000, lr 0.00100, time 162.41\n",
      "loss 8390.2170 0.2001 8390.0169, ade1 269.7005, fde1 438.1502, ade 261.8715, fde 407.6747\n",
      "\n",
      "epoch number: 13\n",
      "display_iters: 368\n"
     ]
    },
    {
     "data": {
      "application/vnd.jupyter.widget-view+json": {
       "model_id": "a2e9898e26bc454cb88e477fe9149d43",
       "version_major": 2,
       "version_minor": 0
      },
      "text/plain": [
       "  0%|          | 0/368 [00:00<?, ?it/s]"
      ]
     },
     "metadata": {},
     "output_type": "display_data"
    },
    {
     "name": "stdout",
     "output_type": "stream",
     "text": [
      "Epoch 14.000, lr 0.00100, time 163.54\n",
      "loss 8288.9389 0.2021 8288.7368, ade1 270.3782, fde1 439.5570, ade 263.0730, fde 411.6027\n",
      "\n",
      "epoch number: 14\n",
      "display_iters: 368\n"
     ]
    },
    {
     "data": {
      "application/vnd.jupyter.widget-view+json": {
       "model_id": "63cf75dc72a4419bb6c8901760237fdb",
       "version_major": 2,
       "version_minor": 0
      },
      "text/plain": [
       "  0%|          | 0/368 [00:00<?, ?it/s]"
      ]
     },
     "metadata": {},
     "output_type": "display_data"
    },
    {
     "name": "stdout",
     "output_type": "stream",
     "text": [
      "Epoch 15.000, lr 0.00100, time 162.31\n",
      "loss 7517.0940 0.2078 7516.8861, ade1 267.3867, fde1 436.5807, ade 261.2051, fde 401.4845\n",
      "\n",
      "epoch number: 15\n",
      "display_iters: 368\n"
     ]
    },
    {
     "data": {
      "application/vnd.jupyter.widget-view+json": {
       "model_id": "d3cf59e625d0419cb8e2ca14a1607df6",
       "version_major": 2,
       "version_minor": 0
      },
      "text/plain": [
       "  0%|          | 0/368 [00:00<?, ?it/s]"
      ]
     },
     "metadata": {},
     "output_type": "display_data"
    },
    {
     "name": "stdout",
     "output_type": "stream",
     "text": [
      "Epoch 16.000, lr 0.00100, time 162.87\n",
      "loss 6116.9390 0.1988 6116.7402, ade1 264.0275, fde1 423.1031, ade 257.9866, fde 390.2590\n",
      "\n",
      "epoch number: 16\n",
      "display_iters: 368\n"
     ]
    },
    {
     "data": {
      "application/vnd.jupyter.widget-view+json": {
       "model_id": "44c00dc1e8d647b1ba7e98afb1d1ca75",
       "version_major": 2,
       "version_minor": 0
      },
      "text/plain": [
       "  0%|          | 0/368 [00:00<?, ?it/s]"
      ]
     },
     "metadata": {},
     "output_type": "display_data"
    },
    {
     "name": "stdout",
     "output_type": "stream",
     "text": [
      "Epoch 17.000, lr 0.00100, time 163.42\n",
      "loss 7855.4706 0.2002 7855.2704, ade1 264.8955, fde1 424.4250, ade 259.0879, fde 394.3051\n",
      "\n",
      "epoch number: 17\n",
      "display_iters: 368\n"
     ]
    },
    {
     "data": {
      "application/vnd.jupyter.widget-view+json": {
       "model_id": "ae324d580d8b4d2f88afd9d5971ce4b4",
       "version_major": 2,
       "version_minor": 0
      },
      "text/plain": [
       "  0%|          | 0/368 [00:00<?, ?it/s]"
      ]
     },
     "metadata": {},
     "output_type": "display_data"
    },
    {
     "name": "stdout",
     "output_type": "stream",
     "text": [
      "Epoch 18.000, lr 0.00100, time 162.98\n",
      "loss 7026.3876 0.1952 7026.1924, ade1 267.4177, fde1 428.1321, ade 263.9785, fde 396.0187\n",
      "\n",
      "epoch number: 18\n",
      "display_iters: 368\n"
     ]
    },
    {
     "data": {
      "application/vnd.jupyter.widget-view+json": {
       "model_id": "dc85080968894ac499efd8640376bb2a",
       "version_major": 2,
       "version_minor": 0
      },
      "text/plain": [
       "  0%|          | 0/368 [00:00<?, ?it/s]"
      ]
     },
     "metadata": {},
     "output_type": "display_data"
    },
    {
     "name": "stdout",
     "output_type": "stream",
     "text": [
      "Epoch 19.000, lr 0.00100, time 162.49\n",
      "loss 7646.7830 0.2006 7646.5824, ade1 266.5034, fde1 425.3403, ade 258.6068, fde 386.9594\n",
      "\n",
      "epoch number: 19\n",
      "display_iters: 368\n"
     ]
    },
    {
     "data": {
      "application/vnd.jupyter.widget-view+json": {
       "model_id": "f68cb1a26f514d6a9fecb97358f6cd6e",
       "version_major": 2,
       "version_minor": 0
      },
      "text/plain": [
       "  0%|          | 0/368 [00:00<?, ?it/s]"
      ]
     },
     "metadata": {},
     "output_type": "display_data"
    },
    {
     "name": "stdout",
     "output_type": "stream",
     "text": [
      "Epoch 20.000, lr 0.00100, time 163.53\n",
      "loss 7229.5251 0.1995 7229.3256, ade1 255.4402, fde1 384.6261, ade 247.9569, fde 345.7057\n",
      "\n",
      "epoch number: 20\n",
      "display_iters: 368\n"
     ]
    },
    {
     "data": {
      "application/vnd.jupyter.widget-view+json": {
       "model_id": "a094a15be7b648bea3cea9d1d4b4dd04",
       "version_major": 2,
       "version_minor": 0
      },
      "text/plain": [
       "  0%|          | 0/368 [00:00<?, ?it/s]"
      ]
     },
     "metadata": {},
     "output_type": "display_data"
    },
    {
     "name": "stdout",
     "output_type": "stream",
     "text": [
      "Epoch 21.000, lr 0.00100, time 162.30\n",
      "loss 8675.7275 0.1958 8675.5316, ade1 258.6728, fde1 399.1656, ade 250.6961, fde 356.0137\n",
      "\n",
      "epoch number: 21\n",
      "display_iters: 368\n"
     ]
    },
    {
     "data": {
      "application/vnd.jupyter.widget-view+json": {
       "model_id": "80f0e38110354df886e854085a539e69",
       "version_major": 2,
       "version_minor": 0
      },
      "text/plain": [
       "  0%|          | 0/368 [00:00<?, ?it/s]"
      ]
     },
     "metadata": {},
     "output_type": "display_data"
    },
    {
     "name": "stdout",
     "output_type": "stream",
     "text": [
      "Epoch 22.000, lr 0.00100, time 162.89\n",
      "loss 6772.6772 0.1995 6772.4776, ade1 255.1154, fde1 397.7869, ade 247.8518, fde 351.0736\n",
      "\n",
      "epoch number: 22\n",
      "display_iters: 368\n"
     ]
    },
    {
     "data": {
      "application/vnd.jupyter.widget-view+json": {
       "model_id": "5193571007f74081a62fc11d2d577b85",
       "version_major": 2,
       "version_minor": 0
      },
      "text/plain": [
       "  0%|          | 0/368 [00:00<?, ?it/s]"
      ]
     },
     "metadata": {},
     "output_type": "display_data"
    },
    {
     "name": "stdout",
     "output_type": "stream",
     "text": [
      "Epoch 23.000, lr 0.00100, time 162.10\n",
      "loss 7120.0486 0.2020 7119.8466, ade1 258.2842, fde1 408.4549, ade 248.8359, fde 360.1351\n",
      "\n",
      "epoch number: 23\n",
      "display_iters: 368\n"
     ]
    },
    {
     "data": {
      "application/vnd.jupyter.widget-view+json": {
       "model_id": "78c90c582fd445f08ceb3bfbca7522c4",
       "version_major": 2,
       "version_minor": 0
      },
      "text/plain": [
       "  0%|          | 0/368 [00:00<?, ?it/s]"
      ]
     },
     "metadata": {},
     "output_type": "display_data"
    },
    {
     "name": "stdout",
     "output_type": "stream",
     "text": [
      "Epoch 24.000, lr 0.00100, time 162.33\n",
      "loss 8792.2872 0.2002 8792.0870, ade1 269.6835, fde1 437.9901, ade 256.3692, fde 389.5270\n",
      "\n",
      "epoch number: 24\n",
      "display_iters: 368\n"
     ]
    },
    {
     "data": {
      "application/vnd.jupyter.widget-view+json": {
       "model_id": "23f5e995b1bd4c0aa9495647ded1ca50",
       "version_major": 2,
       "version_minor": 0
      },
      "text/plain": [
       "  0%|          | 0/368 [00:00<?, ?it/s]"
      ]
     },
     "metadata": {},
     "output_type": "display_data"
    },
    {
     "name": "stdout",
     "output_type": "stream",
     "text": [
      "Epoch 25.000, lr 0.00100, time 162.46\n",
      "loss 7610.6559 0.2003 7610.4556, ade1 259.8780, fde1 401.6173, ade 248.7979, fde 364.2578\n",
      "\n",
      "epoch number: 25\n",
      "display_iters: 368\n"
     ]
    },
    {
     "name": "stderr",
     "output_type": "stream",
     "text": [
      "IOPub message rate exceeded.\n",
      "The notebook server will temporarily stop sending output\n",
      "to the client in order to avoid crashing it.\n",
      "To change this limit, set the config variable\n",
      "`--NotebookApp.iopub_msg_rate_limit`.\n",
      "\n",
      "Current values:\n",
      "NotebookApp.iopub_msg_rate_limit=1000.0 (msgs/sec)\n",
      "NotebookApp.rate_limit_window=3.0 (secs)\n",
      "\n"
     ]
    },
    {
     "data": {
      "application/vnd.jupyter.widget-view+json": {
       "model_id": "e8b02d02f1b346c385f4bafb2c902235",
       "version_major": 2,
       "version_minor": 0
      },
      "text/plain": [
       "  0%|          | 0/368 [00:00<?, ?it/s]"
      ]
     },
     "metadata": {},
     "output_type": "display_data"
    },
    {
     "name": "stdout",
     "output_type": "stream",
     "text": [
      "Epoch 27.000, lr 0.00100, time 163.04\n",
      "loss 6806.2784 0.2005 6806.0779, ade1 250.8220, fde1 377.5180, ade 240.5563, fde 343.5787\n",
      "\n",
      "epoch number: 27\n",
      "display_iters: 368\n"
     ]
    },
    {
     "data": {
      "application/vnd.jupyter.widget-view+json": {
       "model_id": "c977634d5c4d4853bb3144c5859db7bd",
       "version_major": 2,
       "version_minor": 0
      },
      "text/plain": [
       "  0%|          | 0/368 [00:00<?, ?it/s]"
      ]
     },
     "metadata": {},
     "output_type": "display_data"
    },
    {
     "name": "stdout",
     "output_type": "stream",
     "text": [
      "Epoch 28.000, lr 0.00100, time 163.30\n",
      "loss 7209.1291 0.1988 7208.9303, ade1 265.2723, fde1 430.0607, ade 257.3038, fde 395.9982\n",
      "\n",
      "epoch number: 28\n",
      "display_iters: 368\n"
     ]
    },
    {
     "data": {
      "application/vnd.jupyter.widget-view+json": {
       "model_id": "b2bf03d792ba44b1838fbf82f13238cd",
       "version_major": 2,
       "version_minor": 0
      },
      "text/plain": [
       "  0%|          | 0/368 [00:00<?, ?it/s]"
      ]
     },
     "metadata": {},
     "output_type": "display_data"
    },
    {
     "name": "stdout",
     "output_type": "stream",
     "text": [
      "Epoch 29.000, lr 0.00100, time 162.80\n",
      "loss 6639.8843 0.2035 6639.6808, ade1 279.1158, fde1 471.8730, ade 271.9838, fde 438.5145\n",
      "\n",
      "epoch number: 29\n",
      "display_iters: 368\n"
     ]
    },
    {
     "data": {
      "application/vnd.jupyter.widget-view+json": {
       "model_id": "7fb3039d25684f8fa2764ebad350637b",
       "version_major": 2,
       "version_minor": 0
      },
      "text/plain": [
       "  0%|          | 0/368 [00:00<?, ?it/s]"
      ]
     },
     "metadata": {},
     "output_type": "display_data"
    },
    {
     "name": "stdout",
     "output_type": "stream",
     "text": [
      "Epoch 30.000, lr 0.00100, time 163.11\n",
      "loss 7949.1572 0.1982 7948.9590, ade1 261.3596, fde1 414.3690, ade 251.1667, fde 374.8115\n",
      "\n",
      "epoch number: 30\n",
      "display_iters: 368\n"
     ]
    },
    {
     "data": {
      "application/vnd.jupyter.widget-view+json": {
       "model_id": "86ab37d0709541c69af9f65a322a83ba",
       "version_major": 2,
       "version_minor": 0
      },
      "text/plain": [
       "  0%|          | 0/368 [00:00<?, ?it/s]"
      ]
     },
     "metadata": {},
     "output_type": "display_data"
    },
    {
     "name": "stdout",
     "output_type": "stream",
     "text": [
      "Epoch 31.000, lr 0.00100, time 163.31\n",
      "loss 7296.2110 0.2015 7296.0095, ade1 249.7135, fde1 380.0193, ade 240.9956, fde 338.6531\n",
      "\n",
      "epoch number: 31\n",
      "display_iters: 368\n"
     ]
    },
    {
     "data": {
      "application/vnd.jupyter.widget-view+json": {
       "model_id": "eab368c455c1408fad35defddcb05809",
       "version_major": 2,
       "version_minor": 0
      },
      "text/plain": [
       "  0%|          | 0/368 [00:00<?, ?it/s]"
      ]
     },
     "metadata": {},
     "output_type": "display_data"
    },
    {
     "name": "stdout",
     "output_type": "stream",
     "text": [
      "Epoch 32.000, lr 0.00100, time 163.33\n",
      "loss 6153.6842 0.1946 6153.4896, ade1 258.8593, fde1 401.5928, ade 244.9024, fde 353.9257\n",
      "\n",
      "epoch number: 32\n",
      "display_iters: 368\n"
     ]
    },
    {
     "data": {
      "application/vnd.jupyter.widget-view+json": {
       "model_id": "0c403d4d70cf4faa84410986ccf4f395",
       "version_major": 2,
       "version_minor": 0
      },
      "text/plain": [
       "  0%|          | 0/368 [00:00<?, ?it/s]"
      ]
     },
     "metadata": {},
     "output_type": "display_data"
    },
    {
     "name": "stdout",
     "output_type": "stream",
     "text": [
      "Epoch 33.000, lr 0.00010, time 162.60\n",
      "loss 7459.2869 0.1896 7459.0972, ade1 252.6957, fde1 381.5049, ade 236.5711, fde 333.2677\n",
      "\n",
      "epoch number: 33\n",
      "display_iters: 368\n"
     ]
    },
    {
     "data": {
      "application/vnd.jupyter.widget-view+json": {
       "model_id": "f4118083318d44ed84d5f830ae7d3c78",
       "version_major": 2,
       "version_minor": 0
      },
      "text/plain": [
       "  0%|          | 0/368 [00:00<?, ?it/s]"
      ]
     },
     "metadata": {},
     "output_type": "display_data"
    },
    {
     "name": "stdout",
     "output_type": "stream",
     "text": [
      "Epoch 34.000, lr 0.00010, time 162.91\n",
      "loss 7304.5381 0.1880 7304.3501, ade1 251.7997, fde1 380.2095, ade 236.2893, fde 332.3808\n",
      "\n",
      "epoch number: 34\n",
      "display_iters: 368\n",
      "************************* Validation, time 112.40 *************************\n",
      "loss 5534.2417 0.1936 5534.0481, ade1 247.6481, fde1 376.9258, ade 234.8548, fde 328.7293\n",
      "\n"
     ]
    },
    {
     "data": {
      "application/vnd.jupyter.widget-view+json": {
       "model_id": "78bc7fdd360245f3bbc0cfa8ec78377a",
       "version_major": 2,
       "version_minor": 0
      },
      "text/plain": [
       "  0%|          | 0/368 [00:00<?, ?it/s]"
      ]
     },
     "metadata": {},
     "output_type": "display_data"
    },
    {
     "name": "stdout",
     "output_type": "stream",
     "text": [
      "Epoch 35.000, lr 0.00010, time 275.97\n",
      "loss 6401.7595 0.1914 6401.5682, ade1 250.5596, fde1 378.2934, ade 235.8819, fde 330.7509\n",
      "\n",
      "epoch number: 35\n",
      "display_iters: 368\n",
      "Epoch 36.000, lr 0.00010, time 163.08\n",
      "loss 6141.0460 0.1923 6140.8537, ade1 245.3643, fde1 371.6467, ade 234.5219, fde 329.0718\n",
      "\n",
      "************************* Validation, time 119.83 *************************\n",
      "loss 5509.7776 0.1925 5509.5851, ade1 245.1316, fde1 371.2634, ade 233.8586, fde 327.8026\n",
      "\n"
     ]
    }
   ],
   "source": [
    "seed = hvd.rank()\n",
    "torch.manual_seed(seed)\n",
    "torch.cuda.manual_seed(seed)\n",
    "np.random.seed(seed)\n",
    "random.seed(seed)\n",
    "\n",
    "# Import all settings for experiment.\n",
    "args = parser.parse_args(args=[])\n",
    "# print(args)\n",
    "model = import_module(args.model)\n",
    "config, Dataset, collate_fn, net, loss, post_process, opt = model.get_model()\n",
    "# print(net)\n",
    "\n",
    "if config[\"horovod\"]:\n",
    "    opt.opt = hvd.DistributedOptimizer(\n",
    "        opt.opt, named_parameters=net.named_parameters()\n",
    "    )\n",
    "\n",
    "if args.resume or args.weight:\n",
    "    ckpt_path = args.resume or args.weight\n",
    "    if not os.path.isabs(ckpt_path):\n",
    "        ckpt_path = os.path.join(config[\"save_dir\"], ckpt_path)\n",
    "    ckpt = torch.load(ckpt_path, map_location=lambda storage, loc: storage)\n",
    "    load_pretrain(net, ckpt[\"state_dict\"])\n",
    "    if args.resume:\n",
    "        config[\"epoch\"] = ckpt[\"epoch\"]\n",
    "        opt.load_state_dict(ckpt[\"opt_state\"])\n",
    "\n",
    "if args.eval:\n",
    "    # Data loader for evaluation\n",
    "    dataset = Dataset(config[\"val_split\"], config, train=False)\n",
    "    val_sampler = DistributedSampler(\n",
    "        dataset, num_replicas=hvd.size(), rank=hvd.rank()\n",
    "    )\n",
    "    val_loader = DataLoader(\n",
    "        dataset,\n",
    "        batch_size=config[\"val_batch_size\"],\n",
    "        num_workers=config[\"val_workers\"],\n",
    "        sampler=val_sampler,\n",
    "        collate_fn=collate_fn,\n",
    "        pin_memory=True,\n",
    "    )\n",
    "\n",
    "    hvd.broadcast_parameters(net.state_dict(), root_rank=0)\n",
    "    val(config, val_loader, net, loss, post_process, 999)\n",
    "else:\n",
    "    # Create log and copy all code\n",
    "    save_dir = config[\"save_dir\"]\n",
    "    log = os.path.join(save_dir, \"log\")\n",
    "    if hvd.rank() == 0:\n",
    "        if not os.path.exists(save_dir):\n",
    "            os.makedirs(save_dir)\n",
    "        sys.stdout = Logger(log)\n",
    "\n",
    "        src_dirs = [root_path]\n",
    "        dst_dirs = [os.path.join(save_dir, \"files\")]\n",
    "        for src_dir, dst_dir in zip(src_dirs, dst_dirs):\n",
    "            files = [f for f in os.listdir(src_dir) if f.endswith(\".py\")]\n",
    "            if not os.path.exists(dst_dir):\n",
    "                os.makedirs(dst_dir)\n",
    "            for f in files:\n",
    "                shutil.copy(os.path.join(src_dir, f), os.path.join(dst_dir, f))\n",
    "\n",
    "    # Data loader for training\n",
    "    dataset = Dataset(config[\"train_split\"], config, train=True)\n",
    "    train_sampler = DistributedSampler(\n",
    "        dataset, num_replicas=hvd.size(), rank=hvd.rank()\n",
    "    )\n",
    "    train_loader = DataLoader(\n",
    "        dataset,\n",
    "        batch_size=config[\"batch_size\"],\n",
    "        num_workers=config[\"workers\"],\n",
    "        sampler=train_sampler,\n",
    "        collate_fn=collate_fn,\n",
    "        pin_memory=True,\n",
    "        worker_init_fn=worker_init_fn,\n",
    "        drop_last=True,\n",
    "    )\n",
    "    print(\"Data loader for training done.\")\n",
    "\n",
    "    # Data loader for evaluation\n",
    "    dataset = Dataset(config[\"val_split\"], config, train=False)\n",
    "    val_sampler = DistributedSampler(dataset, num_replicas=hvd.size(), rank=hvd.rank())\n",
    "    val_loader = DataLoader(\n",
    "        dataset,\n",
    "        batch_size=config[\"val_batch_size\"],\n",
    "        num_workers=config[\"val_workers\"],\n",
    "        sampler=val_sampler,\n",
    "        collate_fn=collate_fn,\n",
    "        pin_memory=True,\n",
    "    )\n",
    "    print(\"Data loader for evaluation done.\")\n",
    "\n",
    "\n",
    "    hvd.broadcast_parameters(net.state_dict(), root_rank=0)\n",
    "    hvd.broadcast_optimizer_state(opt.opt, root_rank=0)\n",
    "\n",
    "    epoch = config[\"epoch\"]\n",
    "    print(\"epoch number: \" +str(epoch))\n",
    "    remaining_epochs = int(np.ceil(config[\"num_epochs\"] - epoch))\n",
    "    print(\"remaining epoch number: \" +str(remaining_epochs))\n",
    "    for i in range(remaining_epochs):\n",
    "        print('epoch number: '+str(i))\n",
    "        train(epoch + i, config, train_loader, net, loss, post_process, opt, val_loader)"
   ]
  }
 ],
 "metadata": {
  "kernelspec": {
   "display_name": "Python 3 (ipykernel)",
   "language": "python",
   "name": "python3"
  },
  "language_info": {
   "codemirror_mode": {
    "name": "ipython",
    "version": 3
   },
   "file_extension": ".py",
   "mimetype": "text/x-python",
   "name": "python",
   "nbconvert_exporter": "python",
   "pygments_lexer": "ipython3",
   "version": "3.7.16"
  }
 },
 "nbformat": 4,
 "nbformat_minor": 5
}
